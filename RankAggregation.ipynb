{
 "cells": [
  {
   "cell_type": "markdown",
   "metadata": {},
   "source": [
    "# Exercizes on Rank Aggregation"
   ]
  },
  {
   "cell_type": "code",
   "execution_count": 2,
   "metadata": {
    "collapsed": false
   },
   "outputs": [],
   "source": [
    "from ex_ra import *"
   ]
  },
  {
   "cell_type": "markdown",
   "metadata": {},
   "source": [
    "## Start here your exercize"
   ]
  },
  {
   "cell_type": "code",
   "execution_count": 3,
   "metadata": {
    "collapsed": false
   },
   "outputs": [
    {
     "name": "stdout",
     "output_type": "stream",
     "text": [
      "A query is proposed to a generic IR system and the following rates are obtained\n",
      "\n",
      "Result\t\tRank1\t\tRank2\n",
      "Alpha\t\t4.70\t\t8.83\n",
      "Bravo\t\t6.00\t\t7.89\n",
      "Charlie\t\t3.38\t\t3.81\n",
      "Delta\t\t3.18\t\t7.74\n",
      "Echo\t\t5.77\t\t2.42\n",
      "Foxtrot\t\t6.77\t\t6.44\n",
      "Golf\t\t4.10\t\t6.09\n",
      "Hotel\t\t0.30\t\t0.99\n",
      "India\t\t3.54\t\t6.12\n",
      "Compute the top-3 results using the MedRank, the Fagin's and the Fagin's threshold algorithms\n"
     ]
    }
   ],
   "source": [
    "A=propose_exercize()"
   ]
  },
  {
   "cell_type": "code",
   "execution_count": 5,
   "metadata": {
    "collapsed": false
   },
   "outputs": [
    {
     "name": "stdout",
     "output_type": "stream",
     "text": [
      "First, let us sort the two rankings\n",
      "\n",
      "Rank1\tScore1\t\tRank2\tScore2\n",
      "Foxtrot\t6.77\t\tAlpha\t8.83\n",
      "Bravo\t6.00\t\tBravo\t7.89\n",
      "Echo\t5.77\t\tDelta\t7.74\n",
      "Alpha\t4.70\t\tFoxtrot\t6.44\n",
      "Golf\t4.10\t\tIndia\t6.12\n",
      "India\t3.54\t\tGolf\t6.09\n",
      "Charlie\t3.38\t\tCharlie\t3.81\n",
      "Delta\t3.18\t\tEcho\t2.42\n",
      "Hotel\t0.30\t\tHotel\t0.99\n",
      "\n",
      "\n",
      "\n",
      "Rank position: 1\n",
      "Analyzing Foxtrot\n",
      "Analyzing Alpha\n",
      "List has not been completely filled, another iteration is needed\n",
      "\n",
      "Rank position: 2\n",
      "Analyzing Bravo\n",
      "Analyzing Bravo\n",
      "Bravo was found in more than half of the ranks: adding in the list\n",
      "List has not been completely filled, another iteration is needed\n",
      "\n",
      "Rank position: 3\n",
      "Analyzing Echo\n",
      "Analyzing Delta\n",
      "List has not been completely filled, another iteration is needed\n",
      "\n",
      "Rank position: 4\n",
      "Analyzing Alpha\n",
      "Alpha was found in more than half of the ranks: adding in the list\n",
      "Analyzing Foxtrot\n",
      "Foxtrot was found in more than half of the ranks: adding in the list\n",
      "=== MedRank ===\n",
      "Bravo\n",
      "Alpha\n",
      "Foxtrot\n",
      "\n",
      "\n",
      "\n",
      "From Medrank, we know that we need to consider the first 4 positions with sequential access\n",
      "Using random access to retrieve the scores\n",
      "The results are ['Alpha' 'Bravo' 'Delta' 'Echo' 'Foxtrot']\n",
      "With the following average score\n",
      "Alpha\t6.76\n",
      "Bravo\t6.94\n",
      "Delta\t5.46\n",
      "Echo\t4.10\n",
      "Foxtrot\t6.60\n",
      "=== Fagin's algorithm ===\n",
      "Rank\tScore\n",
      "Bravo\t6.94\n",
      "Alpha\t6.76\n",
      "Foxtrot\t6.60\n",
      "\n",
      "\n",
      "\n",
      "\n",
      "==> Rank position: 1\n",
      "Foxtrot - score 6.60\n",
      "List not fill or score higher than the minimum\n",
      "Inserting Foxtrot\n",
      "Corrent top-K list\n",
      "0\tFoxtrot\t6.60\n",
      "\n",
      "Alpha - score 6.76\n",
      "List not fill or score higher than the minimum\n",
      "Inserting Alpha\n",
      "Corrent top-K list\n",
      "0\tAlpha\t6.76\n",
      "1\tFoxtrot\t6.60\n",
      "\n",
      "Threshold: 7.80\n",
      "\n",
      "==> Rank position: 2\n",
      "Bravo - score 6.94\n",
      "List not fill or score higher than the minimum\n",
      "Inserting Bravo\n",
      "Corrent top-K list\n",
      "0\tBravo\t6.94\n",
      "1\tAlpha\t6.76\n",
      "2\tFoxtrot\t6.60\n",
      "\n",
      "Threshold: 6.94\n",
      "\n",
      "==> Rank position: 3\n",
      "Echo - score 4.10\n",
      "Corrent top-K list\n",
      "0\tBravo\t6.94\n",
      "1\tAlpha\t6.76\n",
      "2\tFoxtrot\t6.60\n",
      "\n",
      "Delta - score 5.46\n",
      "Corrent top-K list\n",
      "0\tBravo\t6.94\n",
      "1\tAlpha\t6.76\n",
      "2\tFoxtrot\t6.60\n",
      "\n",
      "Threshold: 6.76\n",
      "\n",
      "==> Rank position: 4\n",
      "Threshold: 5.57\n",
      "Min score is higher than the threshold and the list was filled: finished\n",
      "\n",
      "=== Fagin's threshold algorithm ===\n",
      "Rank\tScore\n",
      "Bravo\t6.94\n",
      "Alpha\t6.76\n",
      "Foxtrot\t6.60\n"
     ]
    }
   ],
   "source": [
    "show_explanation=True\n",
    "solve_exercize(A,show_explanation)"
   ]
  },
  {
   "cell_type": "code",
   "execution_count": null,
   "metadata": {
    "collapsed": true
   },
   "outputs": [],
   "source": []
  }
 ],
 "metadata": {
  "anaconda-cloud": {},
  "kernelspec": {
   "display_name": "Python [conda root]",
   "language": "python",
   "name": "conda-root-py"
  },
  "language_info": {
   "codemirror_mode": {
    "name": "ipython",
    "version": 3
   },
   "file_extension": ".py",
   "mimetype": "text/x-python",
   "name": "python",
   "nbconvert_exporter": "python",
   "pygments_lexer": "ipython3",
   "version": "3.5.2"
  }
 },
 "nbformat": 4,
 "nbformat_minor": 1
}
