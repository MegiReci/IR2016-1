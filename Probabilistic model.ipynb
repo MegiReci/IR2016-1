{
 "cells": [
  {
   "cell_type": "markdown",
   "metadata": {},
   "source": [
    "# Exercizes on Probabilistic Model"
   ]
  },
  {
   "cell_type": "code",
   "execution_count": 37,
   "metadata": {
    "collapsed": true
   },
   "outputs": [],
   "source": [
    "from ex_pm import *\n",
    "%matplotlib inline"
   ]
  },
  {
   "cell_type": "markdown",
   "metadata": {},
   "source": [
    "## Start here your exercize"
   ]
  },
  {
   "cell_type": "code",
   "execution_count": 40,
   "metadata": {
    "collapsed": false
   },
   "outputs": [
    {
     "name": "stdout",
     "output_type": "stream",
     "text": [
      "Given\n",
      "\tQuery incidence vector\n",
      "\t\tq=[0 0 1 0 1 1]\n",
      "Documents incidence vectors\n",
      "\t\td1=[1 0 0 1 0 1]\n",
      "\t\td2=[1 0 0 1 0 0]\n",
      "\t\td3=[0 1 1 1 0 0]\n",
      "\t\td4=[1 0 1 0 1 0]\n",
      "\tInitialize\n",
      "\t\tp_i=0.5\n",
      "Consider as relevant the top-2 documents\n"
     ]
    }
   ],
   "source": [
    "D,Q=propose_exercize()"
   ]
  },
  {
   "cell_type": "code",
   "execution_count": 39,
   "metadata": {
    "collapsed": false
   },
   "outputs": [
    {
     "name": "stdout",
     "output_type": "stream",
     "text": [
      "Reduce the documents incidence vectors considering only the terms that appear in the query\n",
      "\t d1=[0 1 0]\n",
      "\t d2=[1 1 0]\n",
      "\t d3=[0 0 1]\n",
      "\t d4=[0 0 0]\n",
      "\n",
      "Initialize u_i as n_i/N, for each term\n",
      "\tt1\tt2\tt3\n",
      "n_i\t1\t2\t1\n",
      "u_i\t0.25\t0.50\t0.25\n",
      "\n",
      "\n",
      "===== Iteration #1 =====\n",
      "SC(d1, q) = log2(p2/(1-p2)) + log2((1-u2)/u2) = 0.00\n",
      "SC(d2, q) = log2(p1/(1-p1)) + log2((1-u1)/u1) + log2(p2/(1-p2)) + log2((1-u2)/u2) = 1.58\n",
      "SC(d3, q) = log2(p3/(1-p3)) + log2((1-u3)/u3) = 1.58\n",
      "SC(d4, q) =  = -inf\n",
      "\n",
      "Ranking\n",
      "d2 > d3 > d1 > d4\n",
      "\n",
      "Relevant documents: {d2, d3}\n",
      "s_1 = 1\n",
      "s_2 = 1\n",
      "s_3 = 1\n",
      "p_1 = s_1/S=1/2=0.50\n",
      "p_2 = s_2/S=1/2=0.50\n",
      "p_3 = s_3/S=1/2=0.50\n",
      "u_1 = (n_1-s_1)/(N-S)=(1-1)/(4-2)=0.00\n",
      "u_2 = (n_2-s_2)/(N-S)=(2-1)/(4-2)=0.50\n",
      "u_3 = (n_3-s_3)/(N-S)=(1-1)/(4-2)=0.00\n",
      "\n",
      "\n",
      "===== Iteration #2 =====\n",
      "SC(d1, q) = log2(p2/(1-p2)) + log2((1-u2)/u2) = 0.00\n",
      "SC(d2, q) = log2(p1/(1-p1)) + log2((1-u1)/u1) + log2(p2/(1-p2)) + log2((1-u2)/u2) = +inf\n",
      "SC(d3, q) = log2(p3/(1-p3)) + log2((1-u3)/u3) = +inf\n",
      "SC(d4, q) =  = -inf\n",
      "\n",
      "Ranking\n",
      "d2 > d3 > d1 > d4\n",
      "\n",
      "Convergence reached\n"
     ]
    }
   ],
   "source": [
    "clean=False\n",
    "solve_exercize(D,Q, clean=clean)"
   ]
  },
  {
   "cell_type": "code",
   "execution_count": null,
   "metadata": {
    "collapsed": true
   },
   "outputs": [],
   "source": []
  }
 ],
 "metadata": {
  "anaconda-cloud": {},
  "kernelspec": {
   "display_name": "Python [conda root]",
   "language": "python",
   "name": "conda-root-py"
  },
  "language_info": {
   "codemirror_mode": {
    "name": "ipython",
    "version": 3
   },
   "file_extension": ".py",
   "mimetype": "text/x-python",
   "name": "python",
   "nbconvert_exporter": "python",
   "pygments_lexer": "ipython3",
   "version": "3.5.2"
  }
 },
 "nbformat": 4,
 "nbformat_minor": 1
}
