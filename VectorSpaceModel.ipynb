{
 "cells": [
  {
   "cell_type": "markdown",
   "metadata": {},
   "source": [
    "# Exercizes on Vector Space Model"
   ]
  },
  {
   "cell_type": "markdown",
   "metadata": {},
   "source": [
    "Some imports you can skip"
   ]
  },
  {
   "cell_type": "code",
   "execution_count": 1,
   "metadata": {
    "collapsed": false
   },
   "outputs": [],
   "source": [
    "from ex_vsm import *\n",
    "%matplotlib inline"
   ]
  },
  {
   "cell_type": "markdown",
   "metadata": {},
   "source": [
    "## Start here your exercize"
   ]
  },
  {
   "cell_type": "code",
   "execution_count": 2,
   "metadata": {
    "collapsed": false
   },
   "outputs": [
    {
     "name": "stdout",
     "output_type": "stream",
     "text": [
      "Given a query\n",
      "\t * Love interests of Ron\n",
      "And a collection of documents\n",
      "\t * Harry is a friend of Hermione\n",
      "\t * Finally Hermione and Ron fall in love\n",
      "\t * Ron is the best friend of Harry\n",
      "And the term-frequency model\n",
      "\t * tf_{i,j}=freq_{i,j}\n",
      "Determine the ranking of documents collection with respect to the given query using a Vector Space Model with the following similarity measures:\n",
      "\t * Euclidean Distance\n",
      "\t * Cosine Similarity\n"
     ]
    }
   ],
   "source": [
    "q,D=propose_exercize()"
   ]
  },
  {
   "cell_type": "code",
   "execution_count": 4,
   "metadata": {
    "collapsed": false,
    "scrolled": false
   },
   "outputs": [
    {
     "name": "stdout",
     "output_type": "stream",
     "text": [
      "Dictionary={\"a\", \"and\", \"best\", \"fall\", \"finally\", \"friend\", \"harry\", \"hermione\", \"in\", \"is\", \"love\", \"of\", \"ron\", \"the\"}\n",
      "\n",
      "Inverse term frequency\n",
      "t_i\t\tn_i\tidf_i\n",
      "a\t\t3\t0.00\n",
      "and\t\t1\t1.58\n",
      "best\t\t1\t1.58\n",
      "fall\t\t1\t1.58\n",
      "finally\t\t1\t1.58\n",
      "friend\t\t2\t0.58\n",
      "harry\t\t2\t0.58\n",
      "hermione\t2\t0.58\n",
      "in\t\t1\t1.58\n",
      "is\t\t2\t0.58\n",
      "love\t\t1\t1.58\n",
      "of\t\t2\t0.58\n",
      "ron\t\t2\t0.58\n",
      "the\t\t1\t1.58\n",
      "\n",
      "Let's purge terms with idf=0\n",
      "Dictionary={\"and\", \"best\", \"fall\", \"finally\", \"friend\", \"harry\", \"hermione\", \"in\", \"is\", \"love\", \"of\", \"ron\", \"the\"}\n",
      "\n",
      "Term frequency\n",
      "t_i\t\ttf_,1\ttf_,2\ttf_,3\n",
      "and\t\t0\t1\t0\n",
      "best\t\t0\t0\t1\n",
      "fall\t\t0\t1\t0\n",
      "finally\t\t0\t1\t0\n",
      "friend\t\t1\t0\t1\n",
      "harry\t\t1\t0\t1\n",
      "hermione\t1\t1\t0\n",
      "in\t\t0\t1\t0\n",
      "is\t\t1\t0\t1\n",
      "love\t\t0\t1\t0\n",
      "of\t\t1\t0\t1\n",
      "ron\t\t0\t1\t1\n",
      "the\t\t0\t0\t1\n",
      "\n",
      "Term frequency in the query\n",
      "t_i\t\ttf_{i,q}\n",
      "and\t\t0\n",
      "best\t\t0\n",
      "fall\t\t0\n",
      "finally\t\t0\n",
      "friend\t\t0\n",
      "harry\t\t0\n",
      "hermione\t0\n",
      "in\t\t0\n",
      "is\t\t0\n",
      "love\t\t1\n",
      "of\t\t1\n",
      "ron\t\t1\n",
      "the\t\t0\n",
      "\n",
      "Let's write the documents and the query as vectors\n",
      "d1 = [ 0.    0.    0.    0.    0.58  0.58  0.58  0.    0.58  0.    0.58  0.    0.  ]\n",
      "d2 = [ 1.58  0.    1.58  1.58  0.    0.    0.58  1.58  0.    1.58  0.    0.58\n",
      "  0.  ]\n",
      "d3 = [ 0.    1.58  0.    0.    0.58  0.58  0.    0.    0.58  0.    0.58  0.58\n",
      "  1.58]\n",
      "q  = [ 0.    0.    0.    0.    0.    0.    0.    0.    0.    1.58  0.58  0.58\n",
      "  0.  ]\n",
      "\n",
      "Euclidean Distance as SC\n",
      "d_L2(q,d1)=2.05; SC(q,d1)=0.33\n",
      "d_L2(q,d2)=3.28; SC(q,d2)=0.23\n",
      "d_L2(q,d3)=2.93; SC(q,d3)=0.25\n",
      "d1 > d3 > d2\n",
      "\n",
      "Cosine Similarity as SC\n",
      "SC(q,d1)=0.15\n",
      "SC(q,d2)=0.44\n",
      "SC(q,d3)=0.15\n",
      "d2 > d3 > d1\n"
     ]
    }
   ],
   "source": [
    "clean=False # use True to clean the output space\n",
    "solve(q,D, clean)"
   ]
  }
 ],
 "metadata": {
  "anaconda-cloud": {},
  "kernelspec": {
   "display_name": "Python [conda root]",
   "language": "python",
   "name": "conda-root-py"
  },
  "language_info": {
   "codemirror_mode": {
    "name": "ipython",
    "version": 3
   },
   "file_extension": ".py",
   "mimetype": "text/x-python",
   "name": "python",
   "nbconvert_exporter": "python",
   "pygments_lexer": "ipython3",
   "version": "3.5.2"
  }
 },
 "nbformat": 4,
 "nbformat_minor": 1
}
