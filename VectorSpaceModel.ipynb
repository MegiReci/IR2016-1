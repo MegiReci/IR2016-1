{
 "cells": [
  {
   "cell_type": "markdown",
   "metadata": {},
   "source": [
    "# Exercizes on Vector Space Model"
   ]
  },
  {
   "cell_type": "markdown",
   "metadata": {},
   "source": [
    "Some imports you can skip"
   ]
  },
  {
   "cell_type": "code",
   "execution_count": 162,
   "metadata": {
    "collapsed": false
   },
   "outputs": [],
   "source": [
    "from ex_vsm import *\n",
    "%matplotlib inline"
   ]
  },
  {
   "cell_type": "markdown",
   "metadata": {},
   "source": [
    "## Start here your exercize"
   ]
  },
  {
   "cell_type": "code",
   "execution_count": 163,
   "metadata": {
    "collapsed": false
   },
   "outputs": [
    {
     "name": "stdout",
     "output_type": "stream",
     "text": [
      "Given a query\n",
      "\t * what to wear for a casual event\n",
      "And a collection of documents\n",
      "\t * For a casual look  wear jeans and t-shirt\n",
      "\t * For a formal event wear a suit and a tie\n",
      "\t * For a typical smart casual look wear jeans and a shirt \n",
      "And the term-frequency model\n",
      "\t * tf_{i,j}=freq_{i,j}\n",
      "Determine the ranking of documents collection with respect to the given query using a Vector Space Model with the following similarity measures:\n",
      "\t * Euclidean Distance\n",
      "\t * Cosine Similarity\n"
     ]
    }
   ],
   "source": [
    "q,D=propose_exercize()"
   ]
  },
  {
   "cell_type": "code",
   "execution_count": 165,
   "metadata": {
    "collapsed": false,
    "scrolled": false
   },
   "outputs": [
    {
     "name": "stdout",
     "output_type": "stream",
     "text": [
      "Dictionary={\"a\", \"and\", \"casual\", \"event\", \"for\", \"formal\", \"jeans\", \"look\", \"shirt\", \"smart\", \"suit\", \"t-shirt\", \"tie\", \"typical\", \"wear\"}\n",
      "\n",
      "Inverse term frequency\n",
      "t_i\t\tn_i\tidf_i\n",
      "a\t\t3\t0.00\n",
      "and\t\t3\t0.00\n",
      "casual\t\t2\t0.58\n",
      "event\t\t1\t1.58\n",
      "for\t\t3\t0.00\n",
      "formal\t\t1\t1.58\n",
      "jeans\t\t2\t0.58\n",
      "look\t\t2\t0.58\n",
      "shirt\t\t2\t0.58\n",
      "smart\t\t1\t1.58\n",
      "suit\t\t1\t1.58\n",
      "t-shirt\t\t1\t1.58\n",
      "tie\t\t1\t1.58\n",
      "typical\t\t1\t1.58\n",
      "wear\t\t3\t0.00\n",
      "\n",
      "Let's purge terms with idf=0\n",
      "Dictionary={\"casual\", \"event\", \"formal\", \"jeans\", \"look\", \"shirt\", \"smart\", \"suit\", \"t-shirt\", \"tie\", \"typical\"}\n",
      "\n",
      "Term frequency\n",
      "t_i\t\ttf_,1\ttf_,2\ttf_,3\n",
      "casual\t\t1\t0\t1\n",
      "event\t\t0\t1\t0\n",
      "formal\t\t0\t1\t0\n",
      "jeans\t\t1\t0\t1\n",
      "look\t\t1\t0\t1\n",
      "shirt\t\t0\t0\t1\n",
      "smart\t\t0\t0\t1\n",
      "suit\t\t0\t1\t0\n",
      "t-shirt\t\t1\t0\t0\n",
      "tie\t\t0\t1\t0\n",
      "typical\t\t0\t0\t1\n",
      "\n",
      "Term frequency in the query\n",
      "t_i\t\ttf_{i,q}\n",
      "casual\t\t1\n",
      "event\t\t1\n",
      "formal\t\t0\n",
      "jeans\t\t0\n",
      "look\t\t0\n",
      "shirt\t\t0\n",
      "smart\t\t0\n",
      "suit\t\t0\n",
      "t-shirt\t\t0\n",
      "tie\t\t0\n",
      "typical\t\t0\n",
      "\n",
      "Let's write the documents and the query as vectors\n",
      "d1 = [ 0.58  0.    0.    0.58  0.58  0.    0.    0.    1.58  0.    0.  ]\n",
      "d2 = [ 0.    1.58  1.58  0.    0.    0.    0.    1.58  0.    1.58  0.  ]\n",
      "d3 = [ 0.58  0.    0.    0.58  0.58  0.58  1.58  0.    0.    0.    1.58]\n",
      "q  = [ 0.58  1.58  0.    0.    0.    0.    0.    0.    0.    0.    0.  ]\n",
      "\n",
      "Euclidean Distance as SC\n",
      "d_L2(q,d1)=2.39; SC(q,d1)=0.30\n",
      "d_L2(q,d2)=2.81; SC(q,d2)=0.26\n",
      "d_L2(q,d3)=2.93; SC(q,d3)=0.25\n",
      "d1 > d2 > d3\n",
      "\n",
      "Cosine Similarity as SC\n",
      "SC(q,d1)=0.11\n",
      "SC(q,d2)=0.47\n",
      "SC(q,d3)=0.08\n",
      "d2 > d1 > d3\n"
     ]
    }
   ],
   "source": [
    "clean=False # use True to clean the output space\n",
    "solve(q,D, clean)"
   ]
  }
 ],
 "metadata": {
  "anaconda-cloud": {},
  "kernelspec": {
   "display_name": "Python [conda root]",
   "language": "python",
   "name": "conda-root-py"
  },
  "language_info": {
   "codemirror_mode": {
    "name": "ipython",
    "version": 3
   },
   "file_extension": ".py",
   "mimetype": "text/x-python",
   "name": "python",
   "nbconvert_exporter": "python",
   "pygments_lexer": "ipython3",
   "version": "3.5.2"
  }
 },
 "nbformat": 4,
 "nbformat_minor": 1
}
